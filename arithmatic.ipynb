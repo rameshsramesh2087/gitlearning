{
 "cells": [
  {
   "cell_type": "markdown",
   "id": "913294ec",
   "metadata": {},
   "source": [
    "arithmatic operators\n",
    "\n",
    "arithmatic operators used numeric values to perform basic mathematical operatoins\n",
    "\n",
    "addition,subtraction,multiplicatin,division,moduls,floor division, exponentiation"
   ]
  },
  {
   "cell_type": "code",
   "execution_count": 4,
   "id": "559b572b",
   "metadata": {},
   "outputs": [
    {
     "name": "stdout",
     "output_type": "stream",
     "text": [
      "22\n",
      "8\n",
      "-100\n"
     ]
    }
   ],
   "source": [
    "# addition\n",
    "\n",
    "print(10+12)\n",
    "print(10+-2)\n",
    "print(100-200)"
   ]
  },
  {
   "cell_type": "code",
   "execution_count": 6,
   "id": "ddd0b910",
   "metadata": {},
   "outputs": [
    {
     "name": "stdout",
     "output_type": "stream",
     "text": [
      "-150\n",
      "-200\n"
     ]
    }
   ],
   "source": [
    "# subtraction\n",
    "print(200-350)\n",
    "\n",
    "print(200-400\n",
    "      )"
   ]
  },
  {
   "cell_type": "code",
   "execution_count": 8,
   "id": "cb205a38",
   "metadata": {},
   "outputs": [
    {
     "name": "stdout",
     "output_type": "stream",
     "text": [
      "25\n",
      "35\n"
     ]
    }
   ],
   "source": [
    "# multiplication\n",
    "print(5*5)\n",
    "print(5*7)"
   ]
  },
  {
   "cell_type": "code",
   "execution_count": 9,
   "id": "4b8cfeb6",
   "metadata": {},
   "outputs": [
    {
     "name": "stdout",
     "output_type": "stream",
     "text": [
      "50.0\n",
      "-50.0\n"
     ]
    }
   ],
   "source": [
    "# dividion\n",
    "\n",
    "print(100/2)\n",
    "print(100/-2)"
   ]
  },
  {
   "cell_type": "code",
   "execution_count": null,
   "id": "04fc05ac",
   "metadata": {},
   "outputs": [
    {
     "name": "stdout",
     "output_type": "stream",
     "text": [
      "0\n",
      "1\n"
     ]
    }
   ],
   "source": [
    "# modulars\n",
    "print(100%2)\n",
    "print(100%3)"
   ]
  },
  {
   "cell_type": "code",
   "execution_count": null,
   "id": "9723a0a3",
   "metadata": {},
   "outputs": [
    {
     "name": "stdout",
     "output_type": "stream",
     "text": [
      "27\n"
     ]
    }
   ],
   "source": [
    "# exponentiation\n",
    "print(3**3)"
   ]
  },
  {
   "cell_type": "code",
   "execution_count": null,
   "id": "8e2e41ff",
   "metadata": {},
   "outputs": [
    {
     "name": "stdout",
     "output_type": "stream",
     "text": [
      "6\n"
     ]
    }
   ],
   "source": [
    "print(12//2)\n"
   ]
  },
  {
   "cell_type": "code",
   "execution_count": null,
   "id": "c637dcf5",
   "metadata": {},
   "outputs": [],
   "source": []
  }
 ],
 "metadata": {
  "kernelspec": {
   "display_name": "base",
   "language": "python",
   "name": "python3"
  },
  "language_info": {
   "codemirror_mode": {
    "name": "ipython",
    "version": 3
   },
   "file_extension": ".py",
   "mimetype": "text/x-python",
   "name": "python",
   "nbconvert_exporter": "python",
   "pygments_lexer": "ipython3",
   "version": "3.12.7"
  }
 },
 "nbformat": 4,
 "nbformat_minor": 5
}
