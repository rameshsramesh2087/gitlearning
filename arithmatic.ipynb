{
 "cells": [
  {
   "cell_type": "markdown",
   "id": "913294ec",
   "metadata": {},
   "source": [
    "arithmatic operators\n",
    "\n",
    "arithmatic operators used numeric values to perform basic mathematical operatoins\n",
    "\n",
    "addition,subraction,multiplicatin,division,moduls,floor division, exponentiation"
   ]
  },
  {
   "cell_type": "code",
   "execution_count": null,
   "id": "559b572b",
   "metadata": {},
   "outputs": [],
   "source": [
    "# addition\n",
    "\n"
   ]
  },
  {
   "cell_type": "code",
   "execution_count": null,
   "id": "ddd0b910",
   "metadata": {},
   "outputs": [],
   "source": []
  }
 ],
 "metadata": {
  "kernelspec": {
   "display_name": "base",
   "language": "python",
   "name": "python3"
  },
  "language_info": {
   "name": "python",
   "version": "3.12.7"
  }
 },
 "nbformat": 4,
 "nbformat_minor": 5
}
