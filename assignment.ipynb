{
 "cells": [
  {
   "cell_type": "markdown",
   "id": "40ef36fa",
   "metadata": {},
   "source": [
    "ASSIGNMENT OPERATOR\n",
    "\n",
    "used to assign values to variables\n"
   ]
  },
  {
   "cell_type": "code",
   "execution_count": null,
   "id": "74f179e5",
   "metadata": {},
   "outputs": [],
   "source": [
    "# basic assignment operators\n",
    "a=12\n",
    "print(a)"
   ]
  },
  {
   "cell_type": "code",
   "execution_count": 2,
   "id": "a917d57f",
   "metadata": {},
   "outputs": [
    {
     "name": "stdout",
     "output_type": "stream",
     "text": [
      "24\n",
      "50\n"
     ]
    }
   ],
   "source": [
    "# addition and assign\n",
    "a=22\n",
    "a+=2\n",
    "print(a)\n",
    "b=44\n",
    "b+=6\n",
    "print(b)"
   ]
  },
  {
   "cell_type": "code",
   "execution_count": 3,
   "id": "ae78cea3",
   "metadata": {},
   "outputs": [
    {
     "name": "stdout",
     "output_type": "stream",
     "text": [
      "70\n"
     ]
    }
   ],
   "source": [
    "# subtract and assign\n",
    "a=77\n",
    "a-=7\n",
    "print(a)"
   ]
  },
  {
   "cell_type": "code",
   "execution_count": null,
   "id": "4fb2838d",
   "metadata": {},
   "outputs": [],
   "source": []
  }
 ],
 "metadata": {
  "kernelspec": {
   "display_name": "base",
   "language": "python",
   "name": "python3"
  },
  "language_info": {
   "codemirror_mode": {
    "name": "ipython",
    "version": 3
   },
   "file_extension": ".py",
   "mimetype": "text/x-python",
   "name": "python",
   "nbconvert_exporter": "python",
   "pygments_lexer": "ipython3",
   "version": "3.12.7"
  }
 },
 "nbformat": 4,
 "nbformat_minor": 5
}
